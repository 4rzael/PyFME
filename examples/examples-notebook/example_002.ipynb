{
 "cells": [
  {
   "cell_type": "markdown",
   "metadata": {},
   "source": [
    "# EXAMPLE 002\n",
    "\n",
    "The main purpose of this example is to check if the aircraft trimmed in a given state maintains the trimmed flight condition.\n",
    "\n",
    "The aircraft used is a Cessna 310, ISA1976 integrated with Flat Earth (euler angles).\n",
    "\n",
    "Example with trimmed aircraft: stationary descent, symmetric, wings level flight."
   ]
  }
 ],
 "metadata": {
  "kernelspec": {
   "display_name": "Python [Root]",
   "language": "python",
   "name": "Python [Root]"
  },
  "language_info": {
   "codemirror_mode": {
    "name": "ipython",
    "version": 2
   },
   "file_extension": ".py",
   "mimetype": "text/x-python",
   "name": "python",
   "nbconvert_exporter": "python",
   "pygments_lexer": "ipython2",
   "version": "2.7.12"
  }
 },
 "nbformat": 4,
 "nbformat_minor": 0
}
