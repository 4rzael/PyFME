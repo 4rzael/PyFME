{
 "cells": [
  {
   "cell_type": "markdown",
   "metadata": {},
   "source": [
    "# EXAMPLE 003\n",
    "\n",
    "Cessna 310, ISA1976 integrated with Flat Earth (euler angles).\n",
    "\n",
    "Example with trimmed aircraft: stationary ascent, symmetric, wings level\n",
    "flight.\n",
    "\n",
    "The main purpose of this example is to check if the aircraft trimmed in a given\n",
    "state maintains the trimmed flight condition."
   ]
  },
  {
   "cell_type": "code",
   "execution_count": null,
   "metadata": {
    "collapsed": true
   },
   "outputs": [],
   "source": [
    "import numpy as np\n",
    "import matplotlib.pyplot as plt\n",
    "from mpl_toolkits.mplot3d import Axes3D"
   ]
  },
  {
   "cell_type": "code",
   "execution_count": null,
   "metadata": {
    "collapsed": true
   },
   "outputs": [],
   "source": [
    "from pyfme.aircrafts import Cessna310\n",
    "from pyfme.environment.environment import Environment\n",
    "from pyfme.environment.atmosphere import ISA1976\n",
    "from pyfme.environment.gravity import VerticalConstant\n",
    "from pyfme.environment.wind import NoWind\n",
    "from pyfme.models.systems import EulerFlatEarth\n",
    "from pyfme.simulator import BatchSimulation\n",
    "from pyfme.utils.trimmer import steady_state_flight_trimmer"
   ]
  },
  {
   "cell_type": "markdown",
   "metadata": {},
   "source": [
    "Initialize variables"
   ]
  },
  {
   "cell_type": "code",
   "execution_count": null,
   "metadata": {
    "collapsed": true
   },
   "outputs": [],
   "source": [
    "aircraft = Cessna310()\n",
    "atmosphere = ISA1976()\n",
    "gravity = VerticalConstant()\n",
    "wind = NoWind()\n",
    "environment = Environment(atmosphere, gravity, wind)"
   ]
  },
  {
   "cell_type": "markdown",
   "metadata": {},
   "source": [
    "Initial conditions"
   ]
  },
  {
   "cell_type": "code",
   "execution_count": null,
   "metadata": {
    "collapsed": true
   },
   "outputs": [],
   "source": [
    "TAS = 312.5 * 0.3048  # m/s\n",
    "h0 = 8000 * 0.3048  # m\n",
    "psi0 = 1  # rad\n",
    "x0, y0 = 0, 0  # m\n",
    "turn_rate = 0.0  # rad/s\n",
    "gamma0 = +0.05  # rad"
   ]
  },
  {
   "cell_type": "code",
   "execution_count": null,
   "metadata": {
    "collapsed": true
   },
   "outputs": [],
   "source": [
    "system = EulerFlatEarth(lat=0, lon=0, h=h0, psi=psi0, x_earth=x0, y_earth=y0)\n",
    "\n",
    "not_trimmed_controls = {'delta_elevator': 0.05,\n",
    "                        'hor_tail_incidence': 0.00,\n",
    "                        'delta_aileron': 0.01 * np.sign(turn_rate),\n",
    "                        'delta_rudder': 0.01 * np.sign(turn_rate),\n",
    "                        'delta_t': 0.5}\n",
    "\n",
    "controls2trim = ['delta_elevator', 'delta_aileron', 'delta_rudder', 'delta_t']"
   ]
  },
  {
   "cell_type": "code",
   "execution_count": null,
   "metadata": {
    "collapsed": true
   },
   "outputs": [],
   "source": [
    "trimmed_ac, trimmed_sys, trimmed_env, results = steady_state_flight_trimmer(\n",
    "    aircraft, system, environment, TAS=TAS, controls_0=not_trimmed_controls,\n",
    "    controls2trim=controls2trim, gamma=gamma0, turn_rate=turn_rate, verbose=2)"
   ]
  },
  {
   "cell_type": "code",
   "execution_count": null,
   "metadata": {
    "collapsed": true
   },
   "outputs": [],
   "source": [
    "print(results)"
   ]
  },
  {
   "cell_type": "code",
   "execution_count": null,
   "metadata": {
    "collapsed": true
   },
   "outputs": [],
   "source": [
    "my_simulation = BatchSimulation(trimmed_ac, trimmed_sys, trimmed_env)"
   ]
  },
  {
   "cell_type": "code",
   "execution_count": null,
   "metadata": {
    "collapsed": true
   },
   "outputs": [],
   "source": [
    "tfin = 150  # seconds\n",
    "N = tfin * 100 + 1\n",
    "time = np.linspace(0, tfin, N)\n",
    "initial_controls = trimmed_ac.controls"
   ]
  },
  {
   "cell_type": "code",
   "execution_count": null,
   "metadata": {
    "collapsed": true
   },
   "outputs": [],
   "source": [
    "controls = {}\n",
    "for control_name, control_value in initial_controls.items():\n",
    "    controls[control_name] = np.ones_like(time) * control_value\n",
    "    \n",
    "my_simulation.set_controls(time, controls)"
   ]
  },
  {
   "cell_type": "code",
   "execution_count": null,
   "metadata": {
    "collapsed": true
   },
   "outputs": [],
   "source": [
    "par_list = ['x_earth', 'y_earth', 'height',\n",
    "            'psi', 'theta', 'phi',\n",
    "            'u', 'v', 'w',\n",
    "            'v_north', 'v_east', 'v_down',\n",
    "            'p', 'q', 'r',\n",
    "            'alpha', 'beta', 'TAS',\n",
    "            'F_xb', 'F_yb', 'F_zb',\n",
    "            'M_xb', 'M_yb', 'M_zb']\n",
    "my_simulation.set_par_dict(par_list)\n",
    "my_simulation.run_simulation()"
   ]
  },
  {
   "cell_type": "code",
   "execution_count": null,
   "metadata": {
    "collapsed": true
   },
   "outputs": [],
   "source": [
    "plt.style.use('ggplot')"
   ]
  },
  {
   "cell_type": "code",
   "execution_count": null,
   "metadata": {
    "collapsed": true
   },
   "outputs": [],
   "source": [
    "for ii in range(len(par_list) // 3):\n",
    "    three_params = par_list[3*ii:3*ii+3]\n",
    "    fig, ax = plt.subplots(3, 1, sharex=True)\n",
    "    for jj, par in enumerate(three_params):\n",
    "        ax[jj].plot(time, my_simulation.par_dict[par])\n",
    "        ax[jj].set_ylabel(par)\n",
    "        ax[jj].set_xlabel('time (s)')"
   ]
  },
  {
   "cell_type": "code",
   "execution_count": null,
   "metadata": {
    "collapsed": true
   },
   "outputs": [],
   "source": [
    "fig = plt.figure()\n",
    "ax = Axes3D(fig)\n",
    "ax.plot(my_simulation.par_dict['x_earth'],\n",
    "        my_simulation.par_dict['y_earth'],\n",
    "        my_simulation.par_dict['height'])\n",
    "\n",
    "ax.plot(my_simulation.par_dict['x_earth'],\n",
    "        my_simulation.par_dict['y_earth'],\n",
    "        my_simulation.par_dict['height'] * 0)\n",
    "ax.set_xlabel('x_earth')\n",
    "ax.set_ylabel('y_earth')\n",
    "ax.set_zlabel('z_earth')"
   ]
  },
  {
   "cell_type": "code",
   "execution_count": null,
   "metadata": {
    "collapsed": true
   },
   "outputs": [],
   "source": [
    "plt.show()"
   ]
  }
 ],
 "metadata": {
  "kernelspec": {
   "display_name": "Python [Root]",
   "language": "python",
   "name": "Python [Root]"
  },
  "language_info": {
   "codemirror_mode": {
    "name": "ipython",
    "version": 2
   },
   "file_extension": ".py",
   "mimetype": "text/x-python",
   "name": "python",
   "nbconvert_exporter": "python",
   "pygments_lexer": "ipython2",
   "version": "2.7.12"
  }
 },
 "nbformat": 4,
 "nbformat_minor": 0
}
